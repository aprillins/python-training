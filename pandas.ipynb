{
 "cells": [
  {
   "cell_type": "code",
   "execution_count": 2,
   "metadata": {},
   "outputs": [
    {
     "name": "stdout",
     "output_type": "stream",
     "text": [
      "Index(['Total variable cost', 'Total fixed cost', 'Total cost'], dtype='object')\n",
      "                     amount      tax     net\n",
      "Total variable cost   50000  -5000.0   50000\n",
      "Total fixed cost     100000 -10000.0  100000\n",
      "Total cost           150000 -15000.0  150000\n",
      "['Total cost' 'Total variable cost' 'Total fixed cost']\n"
     ]
    }
   ],
   "source": [
    "import pandas as pd\n",
    "import numpy as np\n",
    "\n",
    "index = np.array(['Total variable cost', 'Total fixed cost'])\n",
    "data = {'amount': [50000, 100000]}\n",
    "df = pd.DataFrame(data=data, index=index)\n",
    "index = np.append(['Total cost'], index)\n",
    "df.reindex(index)\n",
    "df.loc['Total cost'] = [df.amount.sum()]\n",
    "df['tax'] = df['amount'] * -0.1\n",
    "df['net'] = df['amount']\n",
    "print(df.index)\n",
    "print(df.head())\n",
    "print(index)\n",
    "df.to_csv('TVC.csv')"
   ]
  },
  {
   "cell_type": "code",
   "execution_count": 3,
   "metadata": {},
   "outputs": [
    {
     "data": {
      "text/plain": [
       "<matplotlib.axes._subplots.AxesSubplot at 0x7fd71eeff438>"
      ]
     },
     "execution_count": 3,
     "metadata": {},
     "output_type": "execute_result"
    }
   ],
   "source": [
    "import matplotlib.pyplot as plt\n",
    "df.plot(kind='bar', bottom=[1000,4000,2000])"
   ]
  },
  {
   "cell_type": "code",
   "execution_count": 62,
   "metadata": {},
   "outputs": [
    {
     "data": {
      "text/html": [
       "<div>\n",
       "<style scoped>\n",
       "    .dataframe tbody tr th:only-of-type {\n",
       "        vertical-align: middle;\n",
       "    }\n",
       "\n",
       "    .dataframe tbody tr th {\n",
       "        vertical-align: top;\n",
       "    }\n",
       "\n",
       "    .dataframe thead th {\n",
       "        text-align: right;\n",
       "    }\n",
       "</style>\n",
       "<table border=\"1\" class=\"dataframe\">\n",
       "  <thead>\n",
       "    <tr style=\"text-align: right;\">\n",
       "      <th></th>\n",
       "      <th></th>\n",
       "      <th></th>\n",
       "      <th></th>\n",
       "      <th>com.kompasgramedia.myvalue - Installs by user by Android Version for 2019-02-22 - 2019-02-28 and 2019-01-25 - 2019-01-31</th>\n",
       "    </tr>\n",
       "  </thead>\n",
       "  <tbody>\n",
       "    <tr>\n",
       "      <td rowspan=\"2\" valign=\"top\">NaN</td>\n",
       "      <td rowspan=\"2\" valign=\"top\">NaN</td>\n",
       "      <td>Metric</td>\n",
       "      <td>Installs by user</td>\n",
       "      <td>Notes</td>\n",
       "    </tr>\n",
       "    <tr>\n",
       "      <td>Dimension</td>\n",
       "      <td>All Android versions</td>\n",
       "      <td>NaN</td>\n",
       "    </tr>\n",
       "    <tr>\n",
       "      <td>Period</td>\n",
       "      <td>Date</td>\n",
       "      <td>NaN</td>\n",
       "      <td>NaN</td>\n",
       "      <td>NaN</td>\n",
       "    </tr>\n",
       "    <tr>\n",
       "      <td rowspan=\"2\" valign=\"top\">2019-02-22 - 2019-02-28</td>\n",
       "      <td>2019-02-22</td>\n",
       "      <td>NaN</td>\n",
       "      <td>535</td>\n",
       "      <td>NaN</td>\n",
       "    </tr>\n",
       "    <tr>\n",
       "      <td>2019-02-23</td>\n",
       "      <td>NaN</td>\n",
       "      <td>604</td>\n",
       "      <td>NaN</td>\n",
       "    </tr>\n",
       "  </tbody>\n",
       "</table>\n",
       "</div>"
      ],
      "text/plain": [
       "                                                                  com.kompasgramedia.myvalue - Installs by user by Android Version for 2019-02-22 - 2019-02-28 and 2019-01-25 - 2019-01-31\n",
       "NaN                     NaN        Metric    Installs by user                                                  Notes                                                                      \n",
       "                                   Dimension All Android versions                                                NaN                                                                      \n",
       "Period                  Date       NaN       NaN                                                                 NaN                                                                      \n",
       "2019-02-22 - 2019-02-28 2019-02-22 NaN       535                                                                 NaN                                                                      \n",
       "                        2019-02-23 NaN       604                                                                 NaN                                                                      "
      ]
     },
     "execution_count": 62,
     "metadata": {},
     "output_type": "execute_result"
    }
   ],
   "source": [
    "dfuser = pd.read_csv('install-by-user-android.csv')\n",
    "#dfuser.droplevel(np.nan, axis=1, level=1)\n",
    "dfuser.head()\n",
    "#ndf = dfuser.iloc[2:]\n",
    "#ndf.drop('Period', axis=0)\n",
    "#x=dfuser.columns.values[0]\n",
    "#x = dfuser.columns.get_level_values(0)\n",
    "\n",
    "#z= ndf.rename(columns={x: 'a'})\n",
    "#z.iloc[0::3]"
   ]
  },
  {
   "cell_type": "code",
   "execution_count": 66,
   "metadata": {},
   "outputs": [
    {
     "data": {
      "text/html": [
       "<div>\n",
       "<style scoped>\n",
       "    .dataframe tbody tr th:only-of-type {\n",
       "        vertical-align: middle;\n",
       "    }\n",
       "\n",
       "    .dataframe tbody tr th {\n",
       "        vertical-align: top;\n",
       "    }\n",
       "\n",
       "    .dataframe thead th {\n",
       "        text-align: right;\n",
       "    }\n",
       "</style>\n",
       "<table border=\"1\" class=\"dataframe\">\n",
       "  <thead>\n",
       "    <tr style=\"text-align: right;\">\n",
       "      <th></th>\n",
       "      <th>Unnamed: 0</th>\n",
       "      <th>Unnamed: 1</th>\n",
       "      <th>Metric</th>\n",
       "      <th>Installs by user</th>\n",
       "      <th>Notes</th>\n",
       "    </tr>\n",
       "  </thead>\n",
       "  <tbody>\n",
       "    <tr>\n",
       "      <td>0</td>\n",
       "      <td>NaN</td>\n",
       "      <td>NaN</td>\n",
       "      <td>Dimension</td>\n",
       "      <td>All Android versions</td>\n",
       "      <td>NaN</td>\n",
       "    </tr>\n",
       "    <tr>\n",
       "      <td>1</td>\n",
       "      <td>Period</td>\n",
       "      <td>Date</td>\n",
       "      <td>NaN</td>\n",
       "      <td>NaN</td>\n",
       "      <td>NaN</td>\n",
       "    </tr>\n",
       "    <tr>\n",
       "      <td>2</td>\n",
       "      <td>2019-02-22 - 2019-02-28</td>\n",
       "      <td>2019-02-22</td>\n",
       "      <td>NaN</td>\n",
       "      <td>535</td>\n",
       "      <td>NaN</td>\n",
       "    </tr>\n",
       "    <tr>\n",
       "      <td>3</td>\n",
       "      <td>2019-02-22 - 2019-02-28</td>\n",
       "      <td>2019-02-23</td>\n",
       "      <td>NaN</td>\n",
       "      <td>604</td>\n",
       "      <td>NaN</td>\n",
       "    </tr>\n",
       "    <tr>\n",
       "      <td>4</td>\n",
       "      <td>2019-02-22 - 2019-02-28</td>\n",
       "      <td>2019-02-24</td>\n",
       "      <td>NaN</td>\n",
       "      <td>466</td>\n",
       "      <td>NaN</td>\n",
       "    </tr>\n",
       "  </tbody>\n",
       "</table>\n",
       "</div>"
      ],
      "text/plain": [
       "                Unnamed: 0  Unnamed: 1     Metric      Installs by user Notes\n",
       "0                      NaN         NaN  Dimension  All Android versions   NaN\n",
       "1                   Period        Date        NaN                   NaN   NaN\n",
       "2  2019-02-22 - 2019-02-28  2019-02-22        NaN                   535   NaN\n",
       "3  2019-02-22 - 2019-02-28  2019-02-23        NaN                   604   NaN\n",
       "4  2019-02-22 - 2019-02-28  2019-02-24        NaN                   466   NaN"
      ]
     },
     "execution_count": 66,
     "metadata": {},
     "output_type": "execute_result"
    }
   ],
   "source": [
    "df = pd.read_csv('install-by-user-android.csv', header=1)\n",
    "df.head()"
   ]
  },
  {
   "cell_type": "code",
   "execution_count": 5,
   "metadata": {},
   "outputs": [
    {
     "ename": "SyntaxError",
     "evalue": "positional argument follows keyword argument (<ipython-input-5-e445b20c63ad>, line 15)",
     "output_type": "error",
     "traceback": [
      "\u001b[0;36m  File \u001b[0;32m\"<ipython-input-5-e445b20c63ad>\"\u001b[0;36m, line \u001b[0;32m15\u001b[0m\n\u001b[0;31m    z.loc[:10].plot.line(x='Date', 'ro--')\u001b[0m\n\u001b[0m                                  ^\u001b[0m\n\u001b[0;31mSyntaxError\u001b[0m\u001b[0;31m:\u001b[0m positional argument follows keyword argument\n"
     ]
    }
   ],
   "source": [
    "from datetime import datetime\n",
    "df.columns = ['Period','Date','Metric','Installs by user', 'Notes']\n",
    "z = df.loc[2:]\n",
    "z = z[['Date', 'Installs by user']]\n",
    "\n",
    "\n",
    "z['Installs by user'] = z['Installs by user'].str.replace(',', '', regex=False)\n",
    "z['Installs by user'].where(z['Installs by user'] == np.NaN, 0)\n",
    "z['Installs by user'] = z['Installs by user'].astype(int)\n",
    "z['Date'] = z['Date'].astype('O')\n",
    "\n",
    "z = z.sort_values(by=['Date'],ascending=True)\n",
    "z.reset_index(drop=True, inplace=True)\n",
    "z.set_index('Date')\n",
    "# z.loc[:10].plot.line(x='Date', 'ro--')\n",
    "help(z.plot.line)\n",
    "z"
   ]
  },
  {
   "cell_type": "code",
   "execution_count": 2,
   "metadata": {},
   "outputs": [
    {
     "ename": "NameError",
     "evalue": "name 'z' is not defined",
     "output_type": "error",
     "traceback": [
      "\u001b[0;31m---------------------------------------------------------------------------\u001b[0m",
      "\u001b[0;31mNameError\u001b[0m                                 Traceback (most recent call last)",
      "\u001b[0;32m<ipython-input-2-b73b4711d205>\u001b[0m in \u001b[0;36m<module>\u001b[0;34m\u001b[0m\n\u001b[0;32m----> 1\u001b[0;31m \u001b[0mprint\u001b[0m\u001b[0;34m(\u001b[0m\u001b[0mz\u001b[0m\u001b[0;34m.\u001b[0m\u001b[0mdtypes\u001b[0m\u001b[0;34m)\u001b[0m\u001b[0;34m\u001b[0m\u001b[0;34m\u001b[0m\u001b[0m\n\u001b[0m\u001b[1;32m      2\u001b[0m \u001b[0;34m\u001b[0m\u001b[0m\n\u001b[1;32m      3\u001b[0m \u001b[0mz\u001b[0m\u001b[0;34m[\u001b[0m\u001b[0;34m'Date'\u001b[0m\u001b[0;34m]\u001b[0m \u001b[0;34m=\u001b[0m \u001b[0mpd\u001b[0m\u001b[0;34m.\u001b[0m\u001b[0mto_datetime\u001b[0m\u001b[0;34m(\u001b[0m\u001b[0mz\u001b[0m\u001b[0;34m[\u001b[0m\u001b[0;34m'Date'\u001b[0m\u001b[0;34m]\u001b[0m\u001b[0;34m)\u001b[0m\u001b[0;34m\u001b[0m\u001b[0;34m\u001b[0m\u001b[0m\n\u001b[1;32m      4\u001b[0m \u001b[0mprint\u001b[0m\u001b[0;34m(\u001b[0m\u001b[0mz\u001b[0m\u001b[0;34m[\u001b[0m\u001b[0;34m'Date'\u001b[0m\u001b[0;34m]\u001b[0m\u001b[0;34m)\u001b[0m\u001b[0;34m\u001b[0m\u001b[0;34m\u001b[0m\u001b[0m\n\u001b[1;32m      5\u001b[0m \u001b[0;31m#z['Date'] = datetime.strptime(z['Date'], '%m-%d-%Y')\u001b[0m\u001b[0;34m\u001b[0m\u001b[0;34m\u001b[0m\u001b[0;34m\u001b[0m\u001b[0m\n",
      "\u001b[0;31mNameError\u001b[0m: name 'z' is not defined"
     ]
    }
   ],
   "source": [
    "print(z.dtypes)\n",
    "\n",
    "z['Date'] = pd.to_datetime(z['Date'])\n",
    "print(z['Date'])\n",
    "#z['Date'] = datetime.strptime(z['Date'], '%m-%d-%Y')"
   ]
  },
  {
   "cell_type": "code",
   "execution_count": null,
   "metadata": {},
   "outputs": [],
   "source": []
  }
 ],
 "metadata": {
  "kernelspec": {
   "display_name": "Python 3",
   "language": "python",
   "name": "python3"
  },
  "language_info": {
   "codemirror_mode": {
    "name": "ipython",
    "version": 3
   },
   "file_extension": ".py",
   "mimetype": "text/x-python",
   "name": "python",
   "nbconvert_exporter": "python",
   "pygments_lexer": "ipython3",
   "version": "3.7.3"
  }
 },
 "nbformat": 4,
 "nbformat_minor": 2
}
