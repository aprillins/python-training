{
 "cells": [
  {
   "cell_type": "code",
   "execution_count": 114,
   "metadata": {},
   "outputs": [
    {
     "data": {
      "text/html": [
       "<div>\n",
       "<style scoped>\n",
       "    .dataframe tbody tr th:only-of-type {\n",
       "        vertical-align: middle;\n",
       "    }\n",
       "\n",
       "    .dataframe tbody tr th {\n",
       "        vertical-align: top;\n",
       "    }\n",
       "\n",
       "    .dataframe thead th {\n",
       "        text-align: right;\n",
       "    }\n",
       "</style>\n",
       "<table border=\"1\" class=\"dataframe\">\n",
       "  <thead>\n",
       "    <tr style=\"text-align: right;\">\n",
       "      <th></th>\n",
       "      <th>amount</th>\n",
       "    </tr>\n",
       "  </thead>\n",
       "  <tbody>\n",
       "    <tr>\n",
       "      <td>sales</td>\n",
       "      <td>350000</td>\n",
       "    </tr>\n",
       "    <tr>\n",
       "      <td>returns</td>\n",
       "      <td>-30000</td>\n",
       "    </tr>\n",
       "    <tr>\n",
       "      <td>credit fees</td>\n",
       "      <td>-7500</td>\n",
       "    </tr>\n",
       "    <tr>\n",
       "      <td>rebates</td>\n",
       "      <td>-25000</td>\n",
       "    </tr>\n",
       "    <tr>\n",
       "      <td>late charges</td>\n",
       "      <td>95000</td>\n",
       "    </tr>\n",
       "  </tbody>\n",
       "</table>\n",
       "</div>"
      ],
      "text/plain": [
       "              amount\n",
       "sales         350000\n",
       "returns       -30000\n",
       "credit fees    -7500\n",
       "rebates       -25000\n",
       "late charges   95000"
      ]
     },
     "execution_count": 114,
     "metadata": {},
     "output_type": "execute_result"
    }
   ],
   "source": [
    "import numpy as np\n",
    "import pandas as pd\n",
    "import matplotlib.pyplot as plt\n",
    "from matplotlib.ticker import FuncFormatter\n",
    "from bokeh.io import show, output_notebook\n",
    "\n",
    "def money(x, pos):\n",
    "    return \"${:,.0f}\".format(x)\n",
    "\n",
    "formatter = FuncFormatter(money)\n",
    "index = ['sales', 'returns', 'credit fees', 'rebates', 'late charges', 'shipping']\n",
    "data = {'amount': [350000, -30000, -7500, -25000, 95000, -7000]}\n",
    "\n",
    "trans = pd.DataFrame(data=data, index=index)\n",
    "blank = trans.amount.cumsum().shift(1).fillna(0)\n",
    "trans.head()\n",
    "#blank.head()"
   ]
  },
  {
   "cell_type": "code",
   "execution_count": 115,
   "metadata": {},
   "outputs": [
    {
     "data": {
      "text/plain": [
       "sales                0.0\n",
       "returns         350000.0\n",
       "credit fees     320000.0\n",
       "rebates         312500.0\n",
       "late charges    287500.0\n",
       "Name: amount, dtype: float64"
      ]
     },
     "execution_count": 115,
     "metadata": {},
     "output_type": "execute_result"
    }
   ],
   "source": [
    "blank.head()"
   ]
  },
  {
   "cell_type": "code",
   "execution_count": 117,
   "metadata": {},
   "outputs": [
    {
     "name": "stdout",
     "output_type": "stream",
     "text": [
      "751000\n",
      "[     0.      0. 350000. 350000. 350000. 320000. 320000. 320000. 312500.\n",
      " 312500. 312500. 287500. 287500. 287500. 382500. 382500. 382500. 751000.\n",
      " 751000. 751000.     nan] Int64Index([0, 0, 0, 1, 1, 1, 2, 2, 2, 3, 3, 3, 4, 4, 4, 5, 5, 5, 6, 6, 6], dtype='int64')\n",
      "nan\n"
     ]
    },
    {
     "data": {
      "image/png": "[encoded data removed]",
      "text/plain": [
       "<Figure size 720x360 with 1 Axes>"
      ]
     },
     "metadata": {
      "needs_background": "light"
     },
     "output_type": "display_data"
    }
   ],
   "source": [
    "total = trans.sum().amount\n",
    "trans.loc[\"net\"] = total\n",
    "blank.loc[\"net\"] = total\n",
    "print(total)\n",
    "\n",
    "step = blank.reset_index(drop=True).repeat(3).shift(-1)\n",
    "print(step.values, step.index)\n",
    "print(np.nan)\n",
    "step[1::3] = np.nan\n",
    "\n",
    "blank.loc[\"net\"] = 0\n",
    "\n",
    "my_plot = trans.plot(kind='bar', stacked=True, bottom=blank, legend=None, figsize=(10, 5), title=\"2014 Sales Waterfall\")\n",
    "my_plot.plot(step.index, step.values, 'k')\n",
    "my_plot.set_xlabel(\"Transaction Types\")\n",
    "\n",
    "my_plot.yaxis.set_major_formatter(formatter)\n",
    "\n",
    "y_height = trans.amount.cumsum().shift(1).fillna(0)\n",
    "\n",
    "max = trans.max(0)\n",
    "neg_offset = max/25\n",
    "pos_offset = max/50\n",
    "plot_offset = int(max/15)\n",
    "\n",
    "loop = 0\n",
    "for index, row in trans.iterrows():\n",
    "    if row['amount'] == total:\n",
    "        y = y_height[loop]\n",
    "    else:\n",
    "        y = y_height[loop] + row['amount']\n",
    "\n",
    "    if row['amount'] > 0:\n",
    "        y += pos_offset\n",
    "    else:\n",
    "        y -= neg_offset\n",
    "\n",
    "    my_plot.annotate(\"{:,.0f}\".format(row['amount']), (loop,y), ha=\"center\")\n",
    "    loop += 1\n",
    "\n",
    "my_plot.set_ylim(0, blank.max()+int(plot_offset))\n",
    "my_plot.set_xticklabels(trans.index, rotation=0)\n",
    "my_plot.get_figure().savefig(\"waterfall.png\", dpi=200, bbox_inches=\"tight\")"
   ]
  },
  {
   "cell_type": "code",
   "execution_count": 118,
   "metadata": {},
   "outputs": [
    {
     "ename": "ModuleNotFoundError",
     "evalue": "No module named 'plotly'",
     "output_type": "error",
     "traceback": [
      "\u001b[0;31m-------------------------------------------------------\u001b[0m",
      "\u001b[0;31mModuleNotFoundError\u001b[0m   Traceback (most recent call last)",
      "\u001b[0;32m<ipython-input-118-cea2b7afe3ec>\u001b[0m in \u001b[0;36m<module>\u001b[0;34m\u001b[0m\n\u001b[0;32m----> 1\u001b[0;31m \u001b[0;32mimport\u001b[0m \u001b[0mplotly\u001b[0m\u001b[0;34m.\u001b[0m\u001b[0mgraph_objects\u001b[0m \u001b[0;32mas\u001b[0m \u001b[0mgo\u001b[0m\u001b[0;34m\u001b[0m\u001b[0;34m\u001b[0m\u001b[0m\n\u001b[0m\u001b[1;32m      2\u001b[0m \u001b[0;34m\u001b[0m\u001b[0m\n\u001b[1;32m      3\u001b[0m fig = go.Figure(go.Waterfall(\n\u001b[1;32m      4\u001b[0m     \u001b[0mname\u001b[0m \u001b[0;34m=\u001b[0m \u001b[0;34m\"20\"\u001b[0m\u001b[0;34m,\u001b[0m \u001b[0morientation\u001b[0m \u001b[0;34m=\u001b[0m \u001b[0;34m\"v\"\u001b[0m\u001b[0;34m,\u001b[0m\u001b[0;34m\u001b[0m\u001b[0;34m\u001b[0m\u001b[0m\n\u001b[1;32m      5\u001b[0m     \u001b[0mmeasure\u001b[0m \u001b[0;34m=\u001b[0m \u001b[0;34m[\u001b[0m\u001b[0;34m\"relative\"\u001b[0m\u001b[0;34m,\u001b[0m \u001b[0;34m\"relative\"\u001b[0m\u001b[0;34m,\u001b[0m \u001b[0;34m\"total\"\u001b[0m\u001b[0;34m,\u001b[0m \u001b[0;34m\"relative\"\u001b[0m\u001b[0;34m,\u001b[0m \u001b[0;34m\"relative\"\u001b[0m\u001b[0;34m,\u001b[0m \u001b[0;34m\"total\"\u001b[0m\u001b[0;34m]\u001b[0m\u001b[0;34m,\u001b[0m\u001b[0;34m\u001b[0m\u001b[0;34m\u001b[0m\u001b[0m\n",
      "\u001b[0;31mModuleNotFoundError\u001b[0m: No module named 'plotly'"
     ]
    }
   ],
   "source": [
    "import plotly.graph_objects as go\n",
    "\n",
    "fig = go.Figure(go.Waterfall(\n",
    "    name = \"20\", orientation = \"v\",\n",
    "    measure = [\"relative\", \"relative\", \"total\", \"relative\", \"relative\", \"total\"],\n",
    "    x = [\"Sales\", \"Consulting\", \"Net revenue\", \"Purchases\", \"Other expenses\", \"Profit before tax\"],\n",
    "    textposition = \"outside\",\n",
    "    text = [\"+60\", \"+80\", \"\", \"-40\", \"-20\", \"Total\"],\n",
    "    y = [60, 80, 0, -40, -20, 0],\n",
    "    connector = {\"line\":{\"color\":\"rgb(63, 63, 63)\"}},\n",
    "))\n",
    "\n",
    "fig.update_layout(\n",
    "        title = \"Profit and loss statement 2018\",\n",
    "        showlegend = True\n",
    ")\n",
    "\n",
    "fig.show()"
   ]
  },
  {
   "cell_type": "code",
   "execution_count": null,
   "metadata": {},
   "outputs": [],
   "source": []
  }
 ],
 "metadata": {
  "kernelspec": {
   "display_name": "Python 3",
   "language": "python",
   "name": "python3"
  },
  "language_info": {
   "codemirror_mode": {
    "name": "ipython",
    "version": 3
   },
   "file_extension": ".py",
   "mimetype": "text/x-python",
   "name": "python",
   "nbconvert_exporter": "python",
   "pygments_lexer": "ipython3",
   "version": "3.7.3"
  }
 },
 "nbformat": 4,
 "nbformat_minor": 2
}
