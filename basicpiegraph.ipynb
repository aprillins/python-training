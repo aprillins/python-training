{
 "cells": [
  {
   "cell_type": "code",
   "execution_count": 17,
   "metadata": {},
   "outputs": [
    {
     "data": {
      "text/plain": [
       "([<matplotlib.patches.Wedge at 0x7f0a3000eac8>,\n",
       "  <matplotlib.patches.Wedge at 0x7f0a3000efd0>,\n",
       "  <matplotlib.patches.Wedge at 0x7f0a3001a4a8>,\n",
       "  <matplotlib.patches.Wedge at 0x7f0a3001a940>],\n",
       " [Text(0.9253788759906099, 0.5947049149539254, 'b'),\n",
       "  Text(0.15654627576372776, 1.0888035927312634, 'c'),\n",
       "  Text(-0.9253789316708985, 0.5947048283136995, 'd'),\n",
       "  Text(0.15654647964602333, -1.0888035634174043, 'Z')])"
      ]
     },
     "execution_count": 17,
     "metadata": {},
     "output_type": "execute_result"
    },
    {
     "data": {
      "image/png": "[encoded data removed]",
      "text/plain": [
       "<Figure size 432x288 with 1 Axes>"
      ]
     },
     "metadata": {},
     "output_type": "display_data"
    }
   ],
   "source": [
    "import matplotlib.pyplot as plt\n",
    "import pandas as pd\n",
    "import numpy as np\n",
    "\n",
    "x = [20,10,30,50]\n",
    "plt.pie(x, labels=('b', 'c', 'd', 'Z'))"
   ]
  },
  {
   "cell_type": "code",
   "execution_count": null,
   "metadata": {},
   "outputs": [],
   "source": []
  }
 ],
 "metadata": {
  "kernelspec": {
   "display_name": "Python 3",
   "language": "python",
   "name": "python3"
  },
  "language_info": {
   "codemirror_mode": {
    "name": "ipython",
    "version": 3
   },
   "file_extension": ".py",
   "mimetype": "text/x-python",
   "name": "python",
   "nbconvert_exporter": "python",
   "pygments_lexer": "ipython3",
   "version": "3.7.3"
  }
 },
 "nbformat": 4,
 "nbformat_minor": 2
}
